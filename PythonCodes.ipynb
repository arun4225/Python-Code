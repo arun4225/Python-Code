{
  "nbformat": 4,
  "nbformat_minor": 0,
  "metadata": {
    "colab": {
      "name": "PythonCodes.ipynb",
      "provenance": [],
      "authorship_tag": "ABX9TyOOApLs2seMG03DKUhhB9fH"
    },
    "kernelspec": {
      "name": "python3",
      "display_name": "Python 3"
    },
    "language_info": {
      "name": "python"
    }
  },
  "cells": [
    {
      "cell_type": "code",
      "metadata": {
        "colab": {
          "base_uri": "https://localhost:8080/"
        },
        "id": "4hX0_tZofdec",
        "outputId": "e6094def-2e85-42a9-a592-54319e6a3e7c"
      },
      "source": [
        "#Scenarion: If you want to count the number of alphabets in string\n",
        "#Code Explanation: In this code we used Python in built function ord - It passes the unicode equivalence for alphabet\n",
        "out = [0]\n",
        "out = out*26\n",
        "st = \"abcdeabcdefgh\"\n",
        "for i in st:\n",
        "    out[ord(i)-ord('a')]+=1\n",
        "\n",
        "print(out)"
      ],
      "execution_count": 3,
      "outputs": [
        {
          "output_type": "stream",
          "text": [
            "[2, 2, 2, 2, 2, 1, 1, 1, 0, 0, 0, 0, 0, 0, 0, 0, 0, 0, 0, 0, 0, 0, 0, 0, 0, 0]\n"
          ],
          "name": "stdout"
        }
      ]
    }
  ]
}